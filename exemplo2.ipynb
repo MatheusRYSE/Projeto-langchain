{
 "cells": [
  {
   "cell_type": "markdown",
   "id": "6a9ca6aa",
   "metadata": {},
   "source": [
    "Aprendendo python em Jupter "
   ]
  },
  {
   "cell_type": "code",
   "execution_count": 1,
   "id": "6afe4b41",
   "metadata": {},
   "outputs": [
    {
     "name": "stdout",
     "output_type": "stream",
     "text": [
      "hello word\n"
     ]
    }
   ],
   "source": [
    "print(\"hello word\")"
   ]
  },
  {
   "cell_type": "code",
   "execution_count": 2,
   "id": "54bdf296",
   "metadata": {},
   "outputs": [
    {
     "name": "stdout",
     "output_type": "stream",
     "text": [
      "VOU CONSEGUIR SER UM GRANDE PROGRAMADOR\n"
     ]
    }
   ],
   "source": [
    "print(\"VOU CONSEGUIR SER UM GRANDE PROGRAMADOR\")"
   ]
  },
  {
   "cell_type": "code",
   "execution_count": 5,
   "id": "8008d029",
   "metadata": {},
   "outputs": [
    {
     "data": {
      "text/plain": [
       "9"
      ]
     },
     "execution_count": 5,
     "metadata": {},
     "output_type": "execute_result"
    }
   ],
   "source": [
    "5 + 4 \n"
   ]
  },
  {
   "cell_type": "markdown",
   "id": "994cffa1",
   "metadata": {},
   "source": [
    "pypi é um biblioteca (site) que tem todas as versoes do pip "
   ]
  },
  {
   "cell_type": "markdown",
   "id": "ddb2be32",
   "metadata": {},
   "source": [
    "O comando \" python -m venv .venv \" cria uma pasta para organizar.\n",
    "para rodar precisa colocar no terminal \" .\\.venv\\Scripits\\activate\n",
    "\n"
   ]
  },
  {
   "cell_type": "markdown",
   "id": "9e573c94",
   "metadata": {},
   "source": [
    "Para instalar as bibliotecas vamos usar o requirements.txt escrevendo o nome da biblioteca dentro dele, depois vamos da um comando no terminal \" pip install -r .\\requiriments.txt"
   ]
  }
 ],
 "metadata": {
  "kernelspec": {
   "display_name": "Python 3",
   "language": "python",
   "name": "python3"
  },
  "language_info": {
   "codemirror_mode": {
    "name": "ipython",
    "version": 3
   },
   "file_extension": ".py",
   "mimetype": "text/x-python",
   "name": "python",
   "nbconvert_exporter": "python",
   "pygments_lexer": "ipython3",
   "version": "3.12.8"
  }
 },
 "nbformat": 4,
 "nbformat_minor": 5
}
